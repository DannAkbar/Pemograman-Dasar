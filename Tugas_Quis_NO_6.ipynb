{
  "nbformat": 4,
  "nbformat_minor": 0,
  "metadata": {
    "colab": {
      "provenance": [],
      "authorship_tag": "ABX9TyOwoqCv0iCSK0m+tNwG0V2t",
      "include_colab_link": true
    },
    "kernelspec": {
      "name": "python3",
      "display_name": "Python 3"
    },
    "language_info": {
      "name": "python"
    }
  },
  "cells": [
    {
      "cell_type": "markdown",
      "metadata": {
        "id": "view-in-github",
        "colab_type": "text"
      },
      "source": [
        "<a href=\"https://colab.research.google.com/github/DannAkbar/Pemograman-Dasar/blob/main/Tugas_Quis_NO_6.ipynb\" target=\"_parent\"><img src=\"https://colab.research.google.com/assets/colab-badge.svg\" alt=\"Open In Colab\"/></a>"
      ]
    },
    {
      "cell_type": "code",
      "execution_count": 32,
      "metadata": {
        "id": "dd_K0topEwYM",
        "colab": {
          "base_uri": "https://localhost:8080/"
        },
        "outputId": "61ab2228-0930-4293-dfe8-de06afddf6a0"
      },
      "outputs": [
        {
          "output_type": "stream",
          "name": "stdout",
          "text": [
            "4. Dictonary\n",
            "{'nama': 'Zidan', 'Umur': 19, 'Jurusan': 'RPE', 'Semester': 3, 'Matakuliah': 'Pemograman Dasar', 'Status_Lulus': False}\n"
          ]
        }
      ],
      "source": [
        "# list\n",
        "nama = \"Zidan\"\n",
        "umur = 19\n",
        "jurusan = \"RPE\"\n",
        "semester = 3\n",
        "matakuliah = 'Pemograman Dasar'\n",
        "status_lulus = False\n",
        "\n",
        "biodata_list = [nama, umur, jurusan, semester, matakuliah, status_lulus]\n",
        "\n",
        "print (\"1. List\")\n",
        "print (biodata_list[0])\n",
        "print (biodata_list[1])\n",
        "print (biodata_list[2])\n",
        "print (biodata_list[3])\n",
        "print (biodata_list[4])\n",
        "print (biodata_list[5])\n",
        "print ()\n",
        "\n",
        "# Tuple\n",
        "biodata_tuple = (nama, umur, jurusan, semester, matakuliah, status_lulus)\n",
        "\n",
        "print (\"2. Tuple\")\n",
        "print(biodata_tuple[0])\n",
        "print(biodata_tuple[1])\n",
        "print(biodata_tuple[2])\n",
        "print(biodata_tuple[3])\n",
        "print(biodata_tuple[4])\n",
        "print(biodata_tuple[5])\n",
        "print ()\n",
        "\n",
        "# Set\n",
        "biodata_set = {nama, umur, jurusan, semester, matakuliah, status_lulus}\n",
        "\n",
        "print (\"3. Set\")\n",
        "print(biodata_set)\n",
        "print ()\n",
        "\n",
        "# Dictonary\n",
        "biodata_dictonary = {\n",
        "    \"nama\" : nama,\n",
        "    \"Umur\" : umur,\n",
        "    \"Jurusan\" : jurusan,\n",
        "    \"Semester\" : semester,\n",
        "    \"Matakuliah\" : matakuliah,\n",
        "    \"Status_Lulus\" : status_lulus\n",
        "}\n",
        "print (\"4. Dictonary\")\n",
        "print (biodata_dictonary)\n"
      ]
    }
  ]
}