{
  "nbformat": 4,
  "nbformat_minor": 0,
  "metadata": {
    "colab": {
      "provenance": [],
      "authorship_tag": "ABX9TyOP/erzZDVlPdqcur0VjAHN",
      "include_colab_link": true
    },
    "kernelspec": {
      "name": "python3",
      "display_name": "Python 3"
    },
    "language_info": {
      "name": "python"
    }
  },
  "cells": [
    {
      "cell_type": "markdown",
      "metadata": {
        "id": "view-in-github",
        "colab_type": "text"
      },
      "source": [
        "<a href=\"https://colab.research.google.com/github/DannAkbar/Pemograman-Dasar/blob/main/penerapan_fungsi_M6.ipynb\" target=\"_parent\"><img src=\"https://colab.research.google.com/assets/colab-badge.svg\" alt=\"Open In Colab\"/></a>"
      ]
    },
    {
      "cell_type": "code",
      "execution_count": 3,
      "metadata": {
        "id": "TlofT9ezt0of"
      },
      "outputs": [],
      "source": [
        "def nama_fungsi(parameter1, parameter2):\n",
        "    # blok kode yang akan dijalankan\n",
        "    return hasil\n"
      ]
    },
    {
      "cell_type": "code",
      "source": [
        "# Mendefinisikan fungsi untuk menyapa pengguna\n",
        "def sapa_pengguna(nama):\n",
        "    print(\"Halo,\", nama, \"! Selamat datang di cafe tepi danau.\")\n",
        "\n",
        "# Memanggil fungsi\n",
        "sapa_pengguna(\"Zidane\")\n",
        "sapa_pengguna(\"Akbar\")\n"
      ],
      "metadata": {
        "colab": {
          "base_uri": "https://localhost:8080/"
        },
        "id": "IpJ2AUTFt5cZ",
        "outputId": "d2643eee-6858-4804-a98a-1fa11422394c"
      },
      "execution_count": 5,
      "outputs": [
        {
          "output_type": "stream",
          "name": "stdout",
          "text": [
            "Halo, Zidane ! Selamat datang di cafe tepi danau.\n",
            "Halo, Akbar ! Selamat datang di cafe tepi danau.\n"
          ]
        }
      ]
    },
    {
      "cell_type": "code",
      "source": [
        "def evaluasi_siswa(nama, nilai):\n",
        "    # tipe data primitif\n",
        "    lulus = True if nilai >= 60 else False   # boolean\n",
        "    status = \"\"                              # string\n",
        "\n",
        "    # tipe data non-primitif: dictionary\n",
        "    predikat = {\n",
        "        \"A\": \"Sangat Baik\",\n",
        "        \"B\": \"Baik\",\n",
        "        \"C\": \"Cukup\",\n",
        "        \"D\": \"Kurang\",\n",
        "        \"E\": \"Sangat Kurang\"\n",
        "    }\n",
        "\n",
        "    # percabangan untuk menentukan nilai huruf\n",
        "    if nilai >= 85:\n",
        "        status = \"A\"\n",
        "    elif nilai >= 75:\n",
        "        status = \"B\"\n",
        "    elif nilai >= 65:\n",
        "        status = \"C\"\n",
        "    elif nilai >= 55:\n",
        "        status = \"D\"\n",
        "    else:\n",
        "        status = \"E\"\n",
        "\n",
        "    # output\n",
        "    print(f\"Nama Siswa      : {nama}\")\n",
        "    print(f\"Nilai Akhir     : {nilai}\")\n",
        "    print(f\"Status Kelulusan: {'Lulus' if lulus else 'Tidak Lulus'}\")\n",
        "    print(f\"Predikat Nilai  : {predikat[status]}\")\n",
        "# pemanggila fungsi\n",
        "evaluasi_siswa(\"Akbar\", 95)\n"
      ],
      "metadata": {
        "colab": {
          "base_uri": "https://localhost:8080/"
        },
        "id": "De3ooF6AvvJo",
        "outputId": "96bb0a26-8fc2-4d1e-f490-4b0f2b98e6f3"
      },
      "execution_count": 6,
      "outputs": [
        {
          "output_type": "stream",
          "name": "stdout",
          "text": [
            "Nama Siswa      : Akbar\n",
            "Nilai Akhir     : 95\n",
            "Status Kelulusan: Lulus\n",
            "Predikat Nilai  : Sangat Baik\n"
          ]
        }
      ]
    },
    {
      "cell_type": "code",
      "source": [
        "def analisis_nilai(daftar_nilai):\n",
        "    # tipe data non-primitif: list\n",
        "    total = 0\n",
        "    jumlah = len(daftar_nilai)\n",
        "\n",
        "    # perulangan for untuk menghitung total nilai\n",
        "    for nilai in daftar_nilai:\n",
        "        total += nilai\n",
        "\n",
        "    # menghitung rata-rata\n",
        "    rata_rata = total / jumlah\n",
        "\n",
        "    # tipe data non-primitif: tuple dan set\n",
        "    data_tuple = tuple(daftar_nilai)\n",
        "    nilai_unik = set(daftar_nilai)\n",
        "\n",
        "    # tipe data primitif: boolean dan string\n",
        "    lulus = True if rata_rata >= 70 else False\n",
        "    kategori = \"Baik\" if lulus else \"Perlu Ditingkatkan\"\n",
        "\n",
        "    # output\n",
        "    print(\"Daftar Nilai (tuple):\", data_tuple)\n",
        "    print(\"Nilai Unik (set)   :\", nilai_unik)\n",
        "    print(\"Rata-rata Nilai    :\", rata_rata)\n",
        "    print(\"Kategori Hasil     :\", kategori)\n",
        "\n",
        "# pemanggilan fungsi\n",
        "analisis_nilai([80, 75, 90, 70, 85])\n"
      ],
      "metadata": {
        "colab": {
          "base_uri": "https://localhost:8080/"
        },
        "id": "XtGrLkUtxAqP",
        "outputId": "b8184689-8cdc-4c04-bfc9-86647acf3627"
      },
      "execution_count": 7,
      "outputs": [
        {
          "output_type": "stream",
          "name": "stdout",
          "text": [
            "Daftar Nilai (tuple): (80, 75, 90, 70, 85)\n",
            "Nilai Unik (set)   : {70, 75, 80, 85, 90}\n",
            "Rata-rata Nilai    : 80.0\n",
            "Kategori Hasil     : Baik\n"
          ]
        }
      ]
    }
  ]
}