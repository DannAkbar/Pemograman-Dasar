{
  "nbformat": 4,
  "nbformat_minor": 0,
  "metadata": {
    "colab": {
      "provenance": [],
      "authorship_tag": "ABX9TyP4VUGwhQwURsbzR3w4Puqy",
      "include_colab_link": true
    },
    "kernelspec": {
      "name": "python3",
      "display_name": "Python 3"
    },
    "language_info": {
      "name": "python"
    }
  },
  "cells": [
    {
      "cell_type": "markdown",
      "metadata": {
        "id": "view-in-github",
        "colab_type": "text"
      },
      "source": [
        "<a href=\"https://colab.research.google.com/github/DannAkbar/Pemograman-Dasar/blob/main/Pratikum_M4.ipynb\" target=\"_parent\"><img src=\"https://colab.research.google.com/assets/colab-badge.svg\" alt=\"Open In Colab\"/></a>"
      ]
    },
    {
      "cell_type": "code",
      "source": [
        "# Praktikum\n",
        "#if\n",
        "\n",
        "# variabel untuk menyimpan umur pengunjung\n",
        "umur = int(input(\"Berapa umur pengunjung : \"))\n",
        "\n",
        "#program hanya akan mencetak pesan jika umur di atas 17\n",
        "if umur >= 17:\n",
        "    print(\"Pengunjung adalah orang dewasa\")"
      ],
      "metadata": {
        "colab": {
          "base_uri": "https://localhost:8080/"
        },
        "id": "cgVbiQHEmxku",
        "outputId": "a6cd18db-f6a9-4d6a-de54-2775eaf47923"
      },
      "execution_count": null,
      "outputs": [
        {
          "output_type": "stream",
          "name": "stdout",
          "text": [
            "Berapa umur pengunjung : 18\n",
            "Pengunjung adalah orang dewasa\n"
          ]
        }
      ]
    },
    {
      "cell_type": "code",
      "source": [
        "#if\n",
        "\n",
        "username = input(\"Masukkan username : \")\n",
        "password = input(\"Masukkan password : \")\n",
        "\n",
        "if username == \"admin\" and password == \"12345\":\n",
        "    print(\"Selamat datang admin\")\n",
        "else:\n",
        "    print(\"Username atau password salah\")\n"
      ],
      "metadata": {
        "colab": {
          "base_uri": "https://localhost:8080/"
        },
        "id": "cubxf9gWnd5d",
        "outputId": "db01ad2d-c321-4304-b43f-e5412648ba82"
      },
      "execution_count": null,
      "outputs": [
        {
          "output_type": "stream",
          "name": "stdout",
          "text": [
            "Masukkan username : admin\n",
            "Masukkan password : 12345\n",
            "Selamat datang admin\n"
          ]
        }
      ]
    },
    {
      "cell_type": "code",
      "source": [
        "# if\n",
        "\n",
        "# Program untuk mengecek bonus dan diskon\n",
        "\n",
        "# Input total belanja\n",
        "total_belanja = input(\"Total belanja: Rp \")\n",
        "\n",
        "# Jumlah yang harus dibayar awalnya sama dengan total belanja\n",
        "bayar = int(total_belanja)\n",
        "\n",
        "# Jika belanja di atas Rp100.000 maka dapat bonus dan diskon\n",
        "if int(total_belanja) >= 100000:\n",
        "    print(\"Selamat! Karena belanja > Rp. 100.000 Anda mendapat Voucher Makan\")\n",
        "    print(\"dan diskon sebesar 5%\")\n",
        "\n",
        "    # Hitung diskon\n",
        "    diskon = int(total_belanja) * 5/100\n",
        "    bayar = int(total_belanja) - diskon\n",
        "\n",
        "# Cetak struk\n",
        "print(\"Total yang harus dibayar: Rp %s\" % bayar)\n",
        "print(\"Terima kasih sudah berbelanja di Toko Kami\")\n",
        "print(\"Kami tunggu kunjungan Anda selanjutnya.\")\n"
      ],
      "metadata": {
        "colab": {
          "base_uri": "https://localhost:8080/"
        },
        "id": "YsPeYT9i3cy4",
        "outputId": "8706ee96-977b-47be-e8fa-ed4a64cca3d4"
      },
      "execution_count": null,
      "outputs": [
        {
          "output_type": "stream",
          "name": "stdout",
          "text": [
            "Total belanja: Rp 100000\n",
            "Selamat! Karena belanja > Rp. 100.000 Anda mendapat Voucher Makan\n",
            "dan diskon sebesar 5%\n",
            "Total yang harus dibayar: Rp 95000.0\n",
            "Terima kasih sudah berbelanja di Toko Kami\n",
            "Kami tunggu kunjungan Anda selanjutnya.\n"
          ]
        }
      ]
    },
    {
      "cell_type": "code",
      "source": [
        "# if\n",
        "\n",
        "# Variabel untuk memeriksa apkah ada notif baru\n",
        "ada_notifikasi_baru : bool = True\n",
        "\n",
        "if ada_notifikasi_baru:\n",
        "    print(\"Ada notifikasi baru\")\n"
      ],
      "metadata": {
        "colab": {
          "base_uri": "https://localhost:8080/"
        },
        "id": "dP6t2_1A5ski",
        "outputId": "932b6bd2-6df9-45e8-a1be-cfcaed563969"
      },
      "execution_count": null,
      "outputs": [
        {
          "output_type": "stream",
          "name": "stdout",
          "text": [
            "Ada notifikasi baru\n"
          ]
        }
      ]
    },
    {
      "cell_type": "code",
      "source": [
        "# Praktikum\n",
        "# If-Else\n",
        "\n",
        "umur = int(input(\"Berapa umur kamu: \"))\n",
        "if int(umur) >= 17:\n",
        "    print(\"Kamu boleh membuat SIM\")\n",
        "else:\n",
        "    print(\"Kamu belum boleh membuat SIM\")"
      ],
      "metadata": {
        "colab": {
          "base_uri": "https://localhost:8080/"
        },
        "id": "IQqMRQ5H6exx",
        "outputId": "e73dc8e5-39f5-4083-f7e6-11a21eb8efd7"
      },
      "execution_count": null,
      "outputs": [
        {
          "output_type": "stream",
          "name": "stdout",
          "text": [
            "Berapa umur kamu: 20\n",
            "Kamu boleh membuat SIM\n"
          ]
        }
      ]
    },
    {
      "cell_type": "code",
      "source": [
        "# If-Else\n",
        "\n",
        "total_belanja = int(input(\"Total belanja: Rp \"))\n",
        "\n",
        "if total_belanja > 20000:\n",
        "  diskon = total_belanja * 0.10\n",
        "  total_bayar = total_belanja - diskon\n",
        "  print(f\"Anda mendapatkan diskon! Total bayar: Rp {total_bayar}\")\n",
        "else:\n",
        "  print(f\"Total bayar: Rp {total_belanja}\")"
      ],
      "metadata": {
        "colab": {
          "base_uri": "https://localhost:8080/"
        },
        "id": "6Rf3aO9m7SEO",
        "outputId": "68de2835-e1a1-48db-8f90-f088d09f3961"
      },
      "execution_count": null,
      "outputs": [
        {
          "output_type": "stream",
          "name": "stdout",
          "text": [
            "Total belanja: Rp 20000\n",
            "Total bayar: Rp 20000\n"
          ]
        }
      ]
    },
    {
      "cell_type": "code",
      "source": [
        "# If-Else\n",
        "\n",
        "angka = int(input(\"Masukkan angka: \"))\n",
        "\n",
        "if angka % 2 == 0:\n",
        "  print(f\"{angka} adalah angka genap\")\n",
        "else:\n",
        "  print(f\"{angka} adalah angka ganjil\")"
      ],
      "metadata": {
        "colab": {
          "base_uri": "https://localhost:8080/"
        },
        "id": "BupBj-Sx88Wh",
        "outputId": "544f351f-93bc-44a3-f443-a39dae60e1fb"
      },
      "execution_count": null,
      "outputs": [
        {
          "output_type": "stream",
          "name": "stdout",
          "text": [
            "Masukkan angka: 99\n",
            "99 adalah angka ganjil\n"
          ]
        }
      ]
    },
    {
      "cell_type": "code",
      "source": [
        "# Praktikum\n",
        "# If-Elif-else\n",
        "\n",
        "nilai = int(input(\"Masukkan nilai: \"))\n",
        "\n",
        "if nilai >= 90:\n",
        "  print(\"Nilai A\")\n",
        "elif nilai >= 80:\n",
        "  print(\"Nilai B\")\n",
        "elif nilai >= 70:\n",
        "\n",
        "\n",
        "  print(\"Nilai C\")\n",
        "else:\n",
        "  print(\"Nilai anda kurang,perlu belajar lebih giat lagi <3\")"
      ],
      "metadata": {
        "colab": {
          "base_uri": "https://localhost:8080/"
        },
        "id": "qPbzha2h9RrE",
        "outputId": "6b34ff18-5415-4f37-c741-911be5d47de9"
      },
      "execution_count": null,
      "outputs": [
        {
          "output_type": "stream",
          "name": "stdout",
          "text": [
            "Masukkan nilai: 89\n",
            "Nilai B\n"
          ]
        }
      ]
    },
    {
      "cell_type": "code",
      "source": [
        "# If-Elif-Else\n",
        "\n",
        "# Menentukan jenis diskon berdasarkan hari\n",
        "hari = str(input(\"Masukkan hari: \"))\n",
        "\n",
        "if hari == \"sabtu\" or hari == \"minggu\":\n",
        "  diskon: float = 0.20\n",
        "  print(f\"Anda mendapatkan diskon akhir pekan {diskon*100}%.\")\n",
        "elif hari ==\"jumat\":\n",
        "  diskon: float = 0.15\n",
        "  print(f\"Anda mendapatkan diskon jumat berkah sebesar {diskon*100}%.\")\n",
        "\n",
        "else:\n",
        "  diskon: float = 0.05\n",
        "  print(f\"Anda mendapatkan diskon hari biasa sebesar{diskon*100}%.\")"
      ],
      "metadata": {
        "colab": {
          "base_uri": "https://localhost:8080/"
        },
        "id": "IdaDV6ZaAfJQ",
        "outputId": "20e92a3b-61e8-4ac2-b8f7-58c0bca83f23"
      },
      "execution_count": 5,
      "outputs": [
        {
          "output_type": "stream",
          "name": "stdout",
          "text": [
            "Masukkan hari: jumat\n",
            "Anda mendapatkan diskon jumat berkah sebesar 15.0%.\n"
          ]
        }
      ]
    },
    {
      "cell_type": "code",
      "source": [
        "# If-Elif-Else\n",
        "\n",
        "rupiah = int(input(\"Masukkan jumlah uang (Rp): \"))\n",
        "print(\"1. Dollar (USD)\")\n",
        "print(\"2. Euro (EUR)\")\n",
        "print(\"3. Yen (JPY)\")\n",
        "pilih = int(input(\"pilih konversi (1/2/3): \"))\n",
        "\n",
        "if pilih == 1:\n",
        "  print(\"Dalam dollar:\", rupiah / 16000)\n",
        "elif pilih == 2:\n",
        "  print(\"Dalam euro:\", rupiah / 19000)\n",
        "elif pilih == 3:\n",
        "  print(\"Dalam yen:\", rupiah / 112)\n",
        "else:\n",
        "  print(\"Pilihan tidak valid\")\n",
        ""
      ],
      "metadata": {
        "colab": {
          "base_uri": "https://localhost:8080/"
        },
        "id": "oriaVM3iA4ph",
        "outputId": "059fbab6-0acb-48dd-e16a-ee89904b18c2"
      },
      "execution_count": 10,
      "outputs": [
        {
          "output_type": "stream",
          "name": "stdout",
          "text": [
            "Masukkan jumlah uang (Rp): 1000000\n",
            "1. Dollar (USD)\n",
            "2. Euro (EUR)\n",
            "3. Yen (JPY)\n",
            "pilih konversi (1/2/3): 1\n",
            "Dalam dollar: 62.5\n"
          ]
        }
      ]
    }
  ]
}