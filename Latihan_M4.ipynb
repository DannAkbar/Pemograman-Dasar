{
  "nbformat": 4,
  "nbformat_minor": 0,
  "metadata": {
    "colab": {
      "provenance": [],
      "authorship_tag": "ABX9TyNurju0Qkvh8GSY/yiAYIHF",
      "include_colab_link": true
    },
    "kernelspec": {
      "name": "python3",
      "display_name": "Python 3"
    },
    "language_info": {
      "name": "python"
    }
  },
  "cells": [
    {
      "cell_type": "markdown",
      "metadata": {
        "id": "view-in-github",
        "colab_type": "text"
      },
      "source": [
        "<a href=\"https://colab.research.google.com/github/DannAkbar/Pemograman-Dasar/blob/main/Latihan_M4.ipynb\" target=\"_parent\"><img src=\"https://colab.research.google.com/assets/colab-badge.svg\" alt=\"Open In Colab\"/></a>"
      ]
    },
    {
      "cell_type": "code",
      "execution_count": 1,
      "metadata": {
        "colab": {
          "base_uri": "https://localhost:8080/"
        },
        "id": "2QreQYt9GPOZ",
        "outputId": "baa1a2e7-36b7-4796-d995-18a90cd2b22b"
      },
      "outputs": [
        {
          "output_type": "stream",
          "name": "stdout",
          "text": [
            "Masukan angka yang di inginkan: 90\n",
            "90 adalah kelipatan 5\n"
          ]
        }
      ],
      "source": [
        "#  Latihan\n",
        "# No 1\n",
        "\n",
        "angka = int(input(\"Masukan angka yang di inginkan: \"))\n",
        "if angka % 5 == 0:\n",
        "  print(f\"{angka} adalah kelipatan 5\")\n",
        "else:\n",
        "  print(f\"{angka} bukan kelipatan 5\")"
      ]
    },
    {
      "cell_type": "code",
      "source": [
        "# No 2\n",
        "\n",
        "tahun = int(input(\"Masukan tahun yang di inginkan: \"))\n",
        "if tahun % 400 == 0:\n",
        "  print(f\"{tahun} adalah tahun kabisat\")\n",
        "elif tahun % 4 == 0 and tahun % 100 != 0:\n",
        "    print(f\"{tahun} adalah tahun kabisat\")\n",
        "else:\n",
        "  print(f\"{tahun} bukan tahun kabisat\")"
      ],
      "metadata": {
        "colab": {
          "base_uri": "https://localhost:8080/"
        },
        "id": "BUByWHa4HJ4b",
        "outputId": "5856a9fa-45f7-4000-8bc7-da6563e2699e"
      },
      "execution_count": 5,
      "outputs": [
        {
          "output_type": "stream",
          "name": "stdout",
          "text": [
            "Masukan tahun yang di inginkan: 2024\n",
            "2024 adalah tahun kabisat\n"
          ]
        }
      ]
    },
    {
      "cell_type": "code",
      "source": [
        "# No 3\n",
        "\n",
        "# Soal\n",
        "print(\"Sebuah persegi memiliki sisi 8cm\")\n",
        "print(\"Hitunglah luas dan kelilingnya\")\n",
        "\n",
        "jawaban_luas = int(input(\"Jadi luas persegi tersebut adalah     : \"))\n",
        "jawaban_keliling = int(input(\"Jadi keliling persegi tersebut adalah : \"))\n",
        "\n",
        "\n",
        "# Nilai\n",
        "nilai = 0\n",
        "\n",
        "if jawaban_luas == 64:\n",
        "  print(\"Jawaban anda untuk luas benar\")\n",
        "  nilai += 50\n",
        "else:\n",
        "  print(\"Jawaban anda untuk luas salah\")\n",
        "\n",
        "if jawaban_keliling == 32:\n",
        "  print(\"Jawaban anda untuk keliling benar\")\n",
        "  nilai += 50\n",
        "else:\n",
        "  print(\"Jawaban anda untuk keliling salah\")\n",
        "\n",
        "print(f\"Nilai : {nilai}\")"
      ],
      "metadata": {
        "colab": {
          "base_uri": "https://localhost:8080/"
        },
        "id": "tBs829AZJfdc",
        "outputId": "1c019c1b-3218-4990-a4e5-778cea3c3d63"
      },
      "execution_count": 23,
      "outputs": [
        {
          "output_type": "stream",
          "name": "stdout",
          "text": [
            "Sebuah persegi memiliki sisi 8cm\n",
            "Hitunglah luas dan kelilingnya\n",
            "Jadi luas persegi tersebut adalah     : 64\n",
            "Jadi keliling persegi tersebut adalah : 32\n",
            "Jawaban anda untuk luas benar\n",
            "Jawaban anda untuk keliling benar\n",
            "Nilai : 100\n"
          ]
        }
      ]
    },
    {
      "cell_type": "code",
      "source": [],
      "metadata": {
        "id": "mDtX5o12QD8d"
      },
      "execution_count": 13,
      "outputs": []
    }
  ]
}