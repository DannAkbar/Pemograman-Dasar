{
  "nbformat": 4,
  "nbformat_minor": 0,
  "metadata": {
    "colab": {
      "provenance": [],
      "authorship_tag": "ABX9TyNrLf1bKgXPOAtBKzHJTWMM",
      "include_colab_link": true
    },
    "kernelspec": {
      "name": "python3",
      "display_name": "Python 3"
    },
    "language_info": {
      "name": "python"
    }
  },
  "cells": [
    {
      "cell_type": "markdown",
      "metadata": {
        "id": "view-in-github",
        "colab_type": "text"
      },
      "source": [
        "<a href=\"https://colab.research.google.com/github/DannAkbar/Pemograman-Dasar/blob/main/Latihan_M4.ipynb\" target=\"_parent\"><img src=\"https://colab.research.google.com/assets/colab-badge.svg\" alt=\"Open In Colab\"/></a>"
      ]
    },
    {
      "cell_type": "code",
      "execution_count": null,
      "metadata": {
        "colab": {
          "base_uri": "https://localhost:8080/"
        },
        "id": "2QreQYt9GPOZ",
        "outputId": "baa1a2e7-36b7-4796-d995-18a90cd2b22b"
      },
      "outputs": [
        {
          "output_type": "stream",
          "name": "stdout",
          "text": [
            "Masukan angka yang di inginkan: 90\n",
            "90 adalah kelipatan 5\n"
          ]
        }
      ],
      "source": [
        "#  Latihan\n",
        "# No 1\n",
        "\n",
        "angka = int(input(\"Masukan angka yang di inginkan: \"))\n",
        "if angka % 5 == 0:\n",
        "  print(f\"{angka} adalah kelipatan 5\")\n",
        "else:\n",
        "  print(f\"{angka} bukan kelipatan 5\")"
      ]
    },
    {
      "cell_type": "code",
      "source": [
        "# No 2\n",
        "\n",
        "tahun = int(input(\"Masukan tahun yang di inginkan: \"))\n",
        "if tahun % 400 == 0:\n",
        "  print(f\"{tahun} adalah tahun kabisat\")\n",
        "elif tahun % 4 == 0 and tahun % 100 != 0:\n",
        "    print(f\"{tahun} adalah tahun kabisat\")\n",
        "else:\n",
        "  print(f\"{tahun} bukan tahun kabisat\")"
      ],
      "metadata": {
        "colab": {
          "base_uri": "https://localhost:8080/"
        },
        "id": "BUByWHa4HJ4b",
        "outputId": "5856a9fa-45f7-4000-8bc7-da6563e2699e"
      },
      "execution_count": null,
      "outputs": [
        {
          "output_type": "stream",
          "name": "stdout",
          "text": [
            "Masukan tahun yang di inginkan: 2024\n",
            "2024 adalah tahun kabisat\n"
          ]
        }
      ]
    },
    {
      "cell_type": "code",
      "source": [
        "# No 3\n",
        "\n",
        "# Soal\n",
        "print(\"Sebuah persegi memiliki sisi 8cm\")\n",
        "print(\"Hitunglah luas dan kelilingnya\")\n",
        "\n",
        "jawaban_luas = int(input(\"Jadi luas persegi tersebut adalah     : \"))\n",
        "jawaban_keliling = int(input(\"Jadi keliling persegi tersebut adalah : \"))\n",
        "\n",
        "# Kunci jawaban\n",
        "sisi = 8\n",
        "luas = sisi * sisi\n",
        "keliling = 4 * sisi\n",
        "\n",
        "# Nilai\n",
        "nilai = 0\n",
        "\n",
        "if jawaban_luas == luas:\n",
        "  print(\"Jawaban anda untuk luas benar\")\n",
        "  nilai += 50\n",
        "else:\n",
        "  print(\"Jawaban anda untuk luas salah\")\n",
        "\n",
        "if jawaban_keliling == keliling:\n",
        "  print(\"Jawaban anda untuk keliling benar\")\n",
        "  nilai += 50\n",
        "else:\n",
        "  print(\"Jawaban anda untuk keliling salah\")\n",
        "\n",
        "print(f\"Nilai : {nilai}\")"
      ],
      "metadata": {
        "colab": {
          "base_uri": "https://localhost:8080/"
        },
        "id": "tBs829AZJfdc",
        "outputId": "444af109-164f-4392-82ba-0a08853f6976"
      },
      "execution_count": 15,
      "outputs": [
        {
          "output_type": "stream",
          "name": "stdout",
          "text": [
            "Sebuah persegi memiliki sisi 8cm\n",
            "Hitunglah luas dan kelilingnya\n",
            "Jadi luas persegi tersebut adalah     : 64\n",
            "Jadi keliling persegi tersebut adalah : 20\n",
            "Jawaban anda untuk luas benar\n",
            "Jawaban anda untuk keliling salah\n",
            "Nilai : 50\n"
          ]
        }
      ]
    },
    {
      "cell_type": "code",
      "source": [
        "# No 4\n",
        "\n",
        "bulan = input(\"Masukan angka bulan yang di inginkan (1-12) : \")\n",
        "if bulan.isdigit():\n",
        "  bulan = int(bulan)\n",
        "  if bulan == 1:\n",
        "    print(\"Januari\")\n",
        "  elif bulan == 2:\n",
        "    print(\"Februari\")\n",
        "  elif bulan == 3:\n",
        "    print(\"Maret\")\n",
        "  elif bulan == 4:\n",
        "    print(\"April\")\n",
        "  elif bulan == 5:\n",
        "    print(\"Mei\")\n",
        "  elif bulan == 6:\n",
        "    print(\"Juni\")\n",
        "  elif bulan == 7:\n",
        "    print(\"Juli\")\n",
        "  elif bulan == 8:\n",
        "    print(\"Agustus\")\n",
        "  elif bulan == 9:\n",
        "    print(\"September\")\n",
        "  elif bulan == 10:\n",
        "    print(\"Oktober\")\n",
        "  elif bulan == 11:\n",
        "    print(\"November\")\n",
        "  elif bulan == 12:\n",
        "    print(\"Desember\")\n",
        "  else:\n",
        "      print(\"input salah! masukan angka yang benar antara 1-12\")\n",
        "else:\n",
        "  print(\"input salah! masukan angka yang benar antara 1-12\")"
      ],
      "metadata": {
        "id": "mDtX5o12QD8d",
        "colab": {
          "base_uri": "https://localhost:8080/"
        },
        "outputId": "f8f200fe-43fd-488b-b5a4-ece27b9adbcc"
      },
      "execution_count": 13,
      "outputs": [
        {
          "output_type": "stream",
          "name": "stdout",
          "text": [
            "Masukan angka bulan yang di inginkan (1-12) : 9\n",
            "September\n"
          ]
        }
      ]
    },
    {
      "cell_type": "code",
      "source": [
        "# No 5\n",
        "\n",
        "jam = int(input(\"Masukkan jam (0-23): \"))\n",
        "if 0 <= jam <= 11:\n",
        "    print(\"Selamat Pagi\")\n",
        "elif 12 <= jam <= 15:\n",
        "    print(\"Selamat Siang\")\n",
        "elif 16 <= jam <= 18:\n",
        "    print(\"Selamat Sore\")\n",
        "elif 19 <= jam <= 23:\n",
        "    print(\"Selamat Malam\")\n",
        "else:\n",
        "    print(\"Jam tidak valid. Harus antara 0–23.\")\n"
      ],
      "metadata": {
        "colab": {
          "base_uri": "https://localhost:8080/"
        },
        "id": "AplyecDU1cs_",
        "outputId": "d249d37d-d1c0-4c52-ff4b-a0308f770500"
      },
      "execution_count": 14,
      "outputs": [
        {
          "output_type": "stream",
          "name": "stdout",
          "text": [
            "Masukkan jam (0-23): 13\n",
            "Selamat Siang\n"
          ]
        }
      ]
    }
  ]
}