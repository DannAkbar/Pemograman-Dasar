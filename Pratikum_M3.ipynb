{
  "nbformat": 4,
  "nbformat_minor": 0,
  "metadata": {
    "colab": {
      "provenance": [],
      "authorship_tag": "ABX9TyN2pzQQC9pPriRWIOOmqUEM",
      "include_colab_link": true
    },
    "kernelspec": {
      "name": "python3",
      "display_name": "Python 3"
    },
    "language_info": {
      "name": "python"
    }
  },
  "cells": [
    {
      "cell_type": "markdown",
      "metadata": {
        "id": "view-in-github",
        "colab_type": "text"
      },
      "source": [
        "<a href=\"https://colab.research.google.com/github/DannAkbar/Pemograman-Dasar/blob/main/Pratikum_M3.ipynb\" target=\"_parent\"><img src=\"https://colab.research.google.com/assets/colab-badge.svg\" alt=\"Open In Colab\"/></a>"
      ]
    },
    {
      "cell_type": "code",
      "execution_count": null,
      "metadata": {
        "colab": {
          "base_uri": "https://localhost:8080/"
        },
        "id": "UDL4rcP_fL-o",
        "outputId": "fbe4aee0-00ca-4ac9-9a71-e47d8ae453a0"
      },
      "outputs": [
        {
          "output_type": "stream",
          "name": "stdout",
          "text": [
            "Berapa porsi makan yang anda beli? : 3\n",
            "Siapa nama pelanggan? : Akbar\n",
            "\n",
            "Data pesanan\n",
            "Nama pelanggan :  Akbar\n",
            "Total porsi   :  3.0\n"
          ]
        }
      ],
      "source": [
        "\n",
        "# Pratikum\n",
        "\n",
        "# Input output\n",
        "\n",
        "total = float (input(\"Berapa porsi makan yang anda beli? : \"))\n",
        "nama = str (input(\"Siapa nama pelanggan? : \"))\n",
        "\n",
        "print()\n",
        "print(\"Data pesanan\")\n",
        "print(\"Nama pelanggan : \",nama)\n",
        "print(\"Total porsi   : \",total)"
      ]
    },
    {
      "cell_type": "code",
      "source": [
        "# Pratikum\n",
        "\n",
        "# Input output\n",
        "\n",
        "food = (\"Ketoprak\")\n",
        "print(\"Akbar sedang memesan\",food)\n",
        "print(\"Akbar sedang memesan \"+ food)\n",
        "print(\"Akbar sedang memesan %s\" % (food))\n",
        "\n",
        "# Operator %d\n",
        "porsi = 1\n",
        "print()\n",
        "print(\"Jumlah yang dipesan : %d\" % (porsi))\n",
        "\n",
        "# Operator %f\n",
        "harga = 15.0\n",
        "print(\"Harga yang dibayar :Rp%.3f\" % (harga))\n",
        "\n",
        "# Operator %s\n",
        "nama = \"Akbar\"\n",
        "print(\"Nama pelanggan : %s\" % (nama))\n",
        "\n",
        "# Operator %x\n",
        "bilangan = 10\n",
        "print(\"Bilangan hexadesimal : %x\" % (bilangan))\n",
        "\n",
        "# Operator %o\n",
        "bilangan = 16\n",
        "print(\"Bilangan oktal : %o\" % (bilangan))"
      ],
      "metadata": {
        "colab": {
          "base_uri": "https://localhost:8080/"
        },
        "id": "WKXzr-CIisaJ",
        "outputId": "fa827570-3ee8-433c-f4e1-37584e0c8cbd"
      },
      "execution_count": null,
      "outputs": [
        {
          "output_type": "stream",
          "name": "stdout",
          "text": [
            "Akbar sedang memesan Ketoprak\n",
            "Akbar sedang memesan Ketoprak\n",
            "Akbar sedang memesan Ketoprak\n",
            "\n",
            "Jumlah yang dipesan : 1\n",
            "Harga yang dibayar :Rp15.000\n",
            "Nama pelanggan : Akbar\n",
            "Bilangan hexadesimal : a\n",
            "Bilangan oktal : 20\n"
          ]
        }
      ]
    },
    {
      "cell_type": "code",
      "source": [
        "# Pratikum\n",
        "\n",
        "# Input Output\n",
        "\n",
        "harga_makan = int(input(\"Berapa harga mi ayam per porsi? \"))\n",
        "jumlah_makan = int(input(\"Berapa porsi yang anda beli? \"))\n",
        "total_makan = harga_makan * jumlah_makan\n",
        "\n",
        "print()\n",
        "print(\"Detail Transaksi\")\n",
        "print(\"Harga mi ayam : Rp. \",harga_makan)\n",
        "print(\"Jumlah pesanan : \",jumlah_makan)\n",
        "print(\"Harga yang dibayar Rp.\",total_makan)"
      ],
      "metadata": {
        "id": "cMK123J_zUzi",
        "colab": {
          "base_uri": "https://localhost:8080/"
        },
        "outputId": "436132c9-6655-4d3d-e428-df2f0b92a56c"
      },
      "execution_count": null,
      "outputs": [
        {
          "output_type": "stream",
          "name": "stdout",
          "text": [
            "Berapa harga mi ayam per porsi? 10000\n",
            "Berapa porsi yang anda beli? 5\n",
            "\n",
            "Detail Transaksi\n",
            "Harga mi ayam : Rp.  10000\n",
            "Jumlah pesanan :  5\n",
            "Harga yang dibayar Rp. 50000\n"
          ]
        }
      ]
    },
    {
      "cell_type": "code",
      "source": [
        "# Pratikum\n",
        "\n",
        "# Ekspresi\n",
        "\n",
        "# Konversi Waktu\n",
        "\n",
        "total_detik = int(input(\"Masukkan detik: \"))\n",
        "jam = total_detik // 3600\n",
        "sisa_detik = total_detik % 3600\n",
        "menit = sisa_detik // 60\n",
        "detik = sisa_detik % 60\n",
        "\n",
        "print(f\"Hasil konversi: {jam} jam, {menit} menit, {detik} detik\")"
      ],
      "metadata": {
        "id": "hmptiI3clqFV",
        "colab": {
          "base_uri": "https://localhost:8080/"
        },
        "outputId": "9760dc92-0ffc-463d-db3e-3bc04f8bd3b5"
      },
      "execution_count": 1,
      "outputs": [
        {
          "output_type": "stream",
          "name": "stdout",
          "text": [
            "Masukkan detik: 358200\n",
            "Hasil konversi: 99 jam, 30 menit, 0 detik\n"
          ]
        }
      ]
    },
    {
      "cell_type": "code",
      "source": [
        "from os import stat_result\n",
        "# Pratikum\n",
        "\n",
        "# Ekspresi\n",
        "\n",
        "# Input nilai mahasiswa\n",
        "nama = str(input(\"Masukkan nama mahasiswa: \"))\n",
        "nim = str(input(\"Masukkan NIM mahasiswa: \"))\n",
        "tugas = float(input(\"Masukkan nilai Tugas: \"))\n",
        "kuis = float(input(\"Masukkan nilai Kuis: \"))\n",
        "praktikum = float(input(\"Masukkan nilai Praktikum: \"))\n",
        "uts = float(input(\"Masukkan nilai UTS: \"))\n",
        "uas = float(input(\"Masukkan nilai UAS: \"))\n",
        "\n",
        "# Input standar kelulusan\n",
        "standar_kelulusan = float(input(\"Masukkan standar kelulusan: \"))\n",
        "\n",
        "# Hitung nilai akhir (bobot bisa disesuaikan sesuai aturan kampus)\n",
        "nilai_akhir = (0.2 * tugas) + (0.1 * kuis) + (0.2 * praktikum) + (0.2 * uts) + (0.3 * uas)\n",
        "\n",
        "# Cek kelulusan\n",
        "apakah_lulus = nilai_akhir >= standar_kelulusan\n",
        "perlu_remedial = nilai_akhir < standar_kelulusan\n",
        "\n",
        "# Output hasil\n",
        "print(\"=== DATA NILAI MAHASISWA ===\")\n",
        "print(\"Nama               : %s\" % (nama))\n",
        "print(\"NIM                : %s\" % (nim))\n",
        "print(\"Nilai Akhir        : %.2f \" % (nilai_akhir))\n",
        "print(\"Standar Kelulusan  : \", standar_kelulusan)\n",
        "print(\"Apakah Lulus?      : \",apakah_lulus)\n",
        "print(\"Perlu Remedial?    : \",perlu_remedial)\n"
      ],
      "metadata": {
        "colab": {
          "base_uri": "https://localhost:8080/"
        },
        "id": "xfaKKg9hNvNX",
        "outputId": "581a5e02-4c1b-43c5-e2f1-d7f6223d844f"
      },
      "execution_count": null,
      "outputs": [
        {
          "output_type": "stream",
          "name": "stdout",
          "text": [
            "Masukkan nama mahasiswa: Akbar\n",
            "Masukkan NIM mahasiswa: 434434623\n",
            "Masukkan nilai Tugas: 98\n",
            "Masukkan nilai Kuis: 87\n",
            "Masukkan nilai Praktikum: 88\n",
            "Masukkan nilai UTS: 90\n",
            "Masukkan nilai UAS: 98\n",
            "Masukkan standar kelulusan: 80\n",
            "=== DATA NILAI MAHASISWA ===\n",
            "Nama               : Akbar\n",
            "NIM                : 434434623\n",
            "Nilai Akhir        : 93.30 \n",
            "Standar Kelulusan  :  80.0\n",
            "Apakah Lulus?      :  True\n",
            "Perlu Remedial?    :  False\n"
          ]
        }
      ]
    },
    {
      "cell_type": "code",
      "source": [
        "# Pratikum\n",
        "\n",
        "# Ekspresi\n",
        "\n",
        "# Input belanja via keyboard\n",
        "belanja = int(input(\"Masukkan total belanja: \"))\n",
        "\n",
        "diskon = (0.1 * belanja) * (belanja > 500000) \\\n",
        "       + (0.25 * belanja) * (belanja > 1000000)\n",
        "\n",
        "# Hitung total harga setelah diskon\n",
        "total_harga = belanja - diskon\n",
        "\n",
        "print(\"Total harga setelah diskon =\", total_harga)\n"
      ],
      "metadata": {
        "id": "yBqusfUxcS4h",
        "colab": {
          "base_uri": "https://localhost:8080/"
        },
        "outputId": "2f0423de-0773-4f1f-976c-2ac465ea8408"
      },
      "execution_count": 7,
      "outputs": [
        {
          "output_type": "stream",
          "name": "stdout",
          "text": [
            "Masukkan total belanja: 900000\n",
            "Total harga setelah diskon = 810000.0\n"
          ]
        }
      ]
    }
  ]
}