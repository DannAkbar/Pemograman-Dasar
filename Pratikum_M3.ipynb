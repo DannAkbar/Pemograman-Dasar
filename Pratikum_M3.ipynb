{
  "nbformat": 4,
  "nbformat_minor": 0,
  "metadata": {
    "colab": {
      "provenance": [],
      "authorship_tag": "ABX9TyPufd99Xm41vOCJ2udO8P02",
      "include_colab_link": true
    },
    "kernelspec": {
      "name": "python3",
      "display_name": "Python 3"
    },
    "language_info": {
      "name": "python"
    }
  },
  "cells": [
    {
      "cell_type": "markdown",
      "metadata": {
        "id": "view-in-github",
        "colab_type": "text"
      },
      "source": [
        "<a href=\"https://colab.research.google.com/github/DannAkbar/Pemograman-Dasar/blob/main/Pratikum_M3.ipynb\" target=\"_parent\"><img src=\"https://colab.research.google.com/assets/colab-badge.svg\" alt=\"Open In Colab\"/></a>"
      ]
    },
    {
      "cell_type": "code",
      "execution_count": 15,
      "metadata": {
        "colab": {
          "base_uri": "https://localhost:8080/"
        },
        "id": "UDL4rcP_fL-o",
        "outputId": "7179b841-aa49-4173-d51c-a7769ed0599d"
      },
      "outputs": [
        {
          "output_type": "stream",
          "name": "stdout",
          "text": [
            "Berapa porsi makan yang anda beli? : 3\n",
            "Siapa nama pelanggan? : Akbar\n",
            "\n",
            "Data pesanan\n",
            "Nama pelanggan :  Akbar\n",
            "Total porsi   :  3.0\n"
          ]
        }
      ],
      "source": [
        "# Pratikum\n",
        "\n",
        "# Input output\n",
        "\n",
        "total = float (input(\"Berapa porsi makan yang anda beli? : \"))\n",
        "nama = str (input(\"Siapa nama pelanggan? : \"))\n",
        "\n",
        "print()\n",
        "print(\"Data pesanan\")\n",
        "print(\"Nama pelanggan : \",nama)\n",
        "print(\"Total porsi   : \",total)"
      ]
    },
    {
      "cell_type": "code",
      "source": [
        "# Pratikum\n",
        "\n",
        "# Input output\n",
        "\n",
        "food = (\"Ketoprak\")\n",
        "print(\"Akbar sedang memesan\",food)\n",
        "print(\"Akbar sedang memesan \"+ food)\n",
        "print(\"Akbar sedang memesan %s\" % (food))\n",
        "\n",
        "# Operator %d\n",
        "porsi = 1\n",
        "print()\n",
        "print(\"Jumlah yang dipesan : %d\" % (porsi))\n",
        "\n",
        "# Operator %f\n",
        "harga = 15.0\n",
        "print(\"Harga yang dibayar :Rp%.3f\" % (harga))\n",
        "\n",
        "# Operator %s\n",
        "nama = \"Akbar\"\n",
        "print(\"Nama pelanggan : %s\" % (nama))\n",
        "\n",
        "# Operator %x\n",
        "bilangan = 10\n",
        "print(\"Bilangan hexadesimal : %x\" % (bilangan))\n",
        "\n",
        "# Operator %o\n",
        "bilangan = 16\n",
        "print(\"Bilangan oktal : %o\" % (bilangan))"
      ],
      "metadata": {
        "colab": {
          "base_uri": "https://localhost:8080/"
        },
        "id": "WKXzr-CIisaJ",
        "outputId": "fa827570-3ee8-433c-f4e1-37584e0c8cbd"
      },
      "execution_count": 55,
      "outputs": [
        {
          "output_type": "stream",
          "name": "stdout",
          "text": [
            "Akbar sedang memesan Ketoprak\n",
            "Akbar sedang memesan Ketoprak\n",
            "Akbar sedang memesan Ketoprak\n",
            "\n",
            "Jumlah yang dipesan : 1\n",
            "Harga yang dibayar :Rp15.000\n",
            "Nama pelanggan : Akbar\n",
            "Bilangan hexadesimal : a\n",
            "Bilangan oktal : 20\n"
          ]
        }
      ]
    },
    {
      "cell_type": "code",
      "source": [
        "# Pratikum\n",
        "\n",
        "# Input Output\n",
        "\n",
        "harga_makan = int(input(\"Berapa harga mi ayam per porsi? \"))\n",
        "jumlah_makan = int(input(\"Berapa porsi yang anda beli? \"))\n",
        "total_makan = harga_makan * jumlah_makan\n",
        "\n",
        "print()\n",
        "print(\"Detail Transaksi\")\n",
        "print(\"Harga mi ayam : Rp. \",harga_makan)\n",
        "print(\"Jumlah pesanan : \",jumlah_makan)\n",
        "print(\"Harga yang dibayar Rp.\",total_makan)"
      ],
      "metadata": {
        "id": "cMK123J_zUzi"
      },
      "execution_count": null,
      "outputs": []
    },
    {
      "cell_type": "code",
      "source": [],
      "metadata": {
        "id": "hmptiI3clqFV"
      },
      "execution_count": null,
      "outputs": []
    }
  ]
}