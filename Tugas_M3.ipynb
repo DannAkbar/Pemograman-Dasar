{
  "nbformat": 4,
  "nbformat_minor": 0,
  "metadata": {
    "colab": {
      "provenance": [],
      "authorship_tag": "ABX9TyMAVIQ0Borr73r0uO1YO1hY",
      "include_colab_link": true
    },
    "kernelspec": {
      "name": "python3",
      "display_name": "Python 3"
    },
    "language_info": {
      "name": "python"
    }
  },
  "cells": [
    {
      "cell_type": "markdown",
      "metadata": {
        "id": "view-in-github",
        "colab_type": "text"
      },
      "source": [
        "<a href=\"https://colab.research.google.com/github/DannAkbar/Pemograman-Dasar/blob/main/Tugas_M3.ipynb\" target=\"_parent\"><img src=\"https://colab.research.google.com/assets/colab-badge.svg\" alt=\"Open In Colab\"/></a>"
      ]
    },
    {
      "cell_type": "code",
      "execution_count": null,
      "metadata": {
        "colab": {
          "base_uri": "https://localhost:8080/"
        },
        "id": "9uXXVFEqF7tT",
        "outputId": "5ea29fef-0653-40ab-84b3-2c1bc40d370c"
      },
      "outputs": [
        {
          "output_type": "stream",
          "name": "stdout",
          "text": [
            "Masukkan jumlah item yang dibeli: 5\n",
            "Masukkan harga item ke-1: 25000\n",
            "Masukkan harga item ke-2: 30000\n",
            "Masukkan harga item ke-3: 8500\n",
            "Masukkan harga item ke-4: 59000\n",
            "Masukkan harga item ke-5: 21500\n",
            "Apakah Anda member? (y/n): y\n",
            "\n",
            "===== STRUK PEMBAYARAN =====\n",
            "Subtotal              : Rp 144000\n",
            "Diskon                : Rp 21600.0\n",
            "Harga setelah diskon  : Rp 122400.0\n",
            "PPN (11%)             : Rp 13464.0\n",
            "Total yang harus dibayar: Rp 135864.0\n"
          ]
        }
      ],
      "source": [
        "# Input jumlah item yang dibeli\n",
        "n = int(input(\"Masukkan jumlah item yang dibeli: \"))\n",
        "\n",
        "# Input harga tiap item\n",
        "harga_item = [int(input(f\"Masukkan harga item ke-{i+1}: \")) for i in range(n)]\n",
        "\n",
        "# Input status keanggotaan\n",
        "member = input(\"Apakah Anda member? (y/n): \").lower() == \"y\"\n",
        "\n",
        "# 1. Hitung Subtotal\n",
        "subtotal = sum(harga_item)\n",
        "\n",
        "# 2. Evaluasi Syarat Diskon (tanpa if)\n",
        "syarat_diskon = (member and subtotal > 100000)\n",
        "\n",
        "# 3. Hitung Jumlah Diskon (15%)\n",
        "diskon = 0.15 * subtotal * syarat_diskon\n",
        "\n",
        "# 4. Harga Setelah Diskon\n",
        "harga_setelah_diskon = subtotal - diskon\n",
        "\n",
        "# 5. Hitung PPN (11%)\n",
        "ppn = 0.11 * harga_setelah_diskon\n",
        "\n",
        "# 6. Hitung Total Akhir\n",
        "total_akhir = harga_setelah_diskon + ppn\n",
        "\n",
        "# Output\n",
        "print()\n",
        "print(\"===== STRUK PEMBAYARAN =====\")\n",
        "print(\"Subtotal              : Rp\", subtotal)\n",
        "print(\"Diskon                : Rp\", diskon)\n",
        "print(\"Harga setelah diskon  : Rp\", harga_setelah_diskon)\n",
        "print(\"PPN (11%)             : Rp\", ppn)\n",
        "print(\"Total yang harus dibayar: Rp\", total_akhir)\n",
        "\n"
      ]
    }
  ]
}