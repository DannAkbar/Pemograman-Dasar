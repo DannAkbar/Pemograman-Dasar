{
  "nbformat": 4,
  "nbformat_minor": 0,
  "metadata": {
    "colab": {
      "provenance": [],
      "authorship_tag": "ABX9TyPwN0vafg04aw3nfBZglN97",
      "include_colab_link": true
    },
    "kernelspec": {
      "name": "python3",
      "display_name": "Python 3"
    },
    "language_info": {
      "name": "python"
    }
  },
  "cells": [
    {
      "cell_type": "markdown",
      "metadata": {
        "id": "view-in-github",
        "colab_type": "text"
      },
      "source": [
        "<a href=\"https://colab.research.google.com/github/DannAkbar/Pemograman-Dasar/blob/main/Pratikum_pertemuan_2.ipynb\" target=\"_parent\"><img src=\"https://colab.research.google.com/assets/colab-badge.svg\" alt=\"Open In Colab\"/></a>"
      ]
    },
    {
      "cell_type": "code",
      "execution_count": 27,
      "metadata": {
        "colab": {
          "base_uri": "https://localhost:8080/"
        },
        "id": "hmITnOJ1iCmh",
        "outputId": "a3ea7ab6-09e1-4886-e8b6-16cdcb508eee"
      },
      "outputs": [
        {
          "output_type": "stream",
          "name": "stdout",
          "text": [
            "23\n",
            "43\n",
            "25\n",
            "34\n"
          ]
        }
      ],
      "source": [
        "# Tipe data : list\n",
        "\n",
        "# deklarasi variabel list number\n",
        "number = [1,1,3]\n",
        "\n",
        "# menambahkan elemen di indeks ke-4\n",
        "number.insert(4,5) # hasil print [1,2,3,5]\n",
        "\n",
        "# mengubah elemen di indeks ke-4\n",
        "number [3] = 4 # hasil print [1,2,3,4]\n",
        "\n",
        "# menghapus elemen di ideks ke-2\n",
        "number.pop(2) # hasil print [1,2,4]\n",
        "\n",
        "# deklarasi variabel list\n",
        "myList = [1,\"Rumah\",4.5,True,[\"Kamar mandi\",\"Kamar tidur\"]]\n",
        "\n",
        "# cara mengakses elemen dalam variabel list\n",
        "myList[0] # hasil print 1\n",
        "myList[1] # hasil print \"Rumah\"\n",
        "myList[2] # hasil print 4.5\n",
        "myList[3] # hasil print True\n",
        "myList[4] # hasil print [\"Kamar mandi\",\"Kamar tidur\"]\n",
        "\n",
        "# cara mengakses elemen dalam sublist\n",
        "myList[4][0] # hasil print \"Kamar mandi\"\n",
        "myList[4][1] # hasil print \"Kamar tidur\"\n",
        "\n",
        "# Tipe data Tuple\n",
        "\n",
        "# deklsrsdi vsrisbel tuple\n",
        "numbers = (23,43,25,34)\n",
        "\n",
        "# cara mengakses elemen dalam variabel tuple\n",
        "numbers[0] # hasil print 23\n",
        "numbers[1] # hasil print 43\n",
        "numbers[2] # hasil print 25\n",
        "numbers[3] # hasil print 34\n",
        "\n",
        "print(numbers[0])\n",
        "print(numbers[1])\n",
        "print(numbers[2])\n",
        "print(numbers[3])"
      ]
    },
    {
      "cell_type": "code",
      "source": [],
      "metadata": {
        "id": "qTxk3Tjp5Lds"
      },
      "execution_count": 27,
      "outputs": []
    }
  ]
}