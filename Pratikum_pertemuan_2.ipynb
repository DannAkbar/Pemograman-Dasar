{
  "nbformat": 4,
  "nbformat_minor": 0,
  "metadata": {
    "colab": {
      "provenance": [],
      "authorship_tag": "ABX9TyNbGNw9FoOqoZvKKpu8oqET",
      "include_colab_link": true
    },
    "kernelspec": {
      "name": "python3",
      "display_name": "Python 3"
    },
    "language_info": {
      "name": "python"
    }
  },
  "cells": [
    {
      "cell_type": "markdown",
      "metadata": {
        "id": "view-in-github",
        "colab_type": "text"
      },
      "source": [
        "<a href=\"https://colab.research.google.com/github/DannAkbar/Pemograman-Dasar/blob/main/Pratikum_pertemuan_2.ipynb\" target=\"_parent\"><img src=\"https://colab.research.google.com/assets/colab-badge.svg\" alt=\"Open In Colab\"/></a>"
      ]
    },
    {
      "cell_type": "code",
      "source": [
        "# Tipe data : list\n",
        "\n",
        "#deklarasi variabel list\n",
        "numbers = [23,43,15,34]\n",
        "\n",
        "# cara mengakses elemen dalam variabel list\n",
        "numbers[0] # hasil print 23\n",
        "numbers[1] # hasil print 43\n",
        "numbers[2] # hasil print 15\n",
        "numbers[3] # hasil print 34\n",
        "\n",
        "print(numbers[0])\n",
        "print(numbers[1])\n",
        "print(numbers[2])\n",
        "print(numbers[3])\n",
        "print()\n",
        "# cara mengubah nilai elemen dalam variabel list\n",
        "\n",
        "numbers[2] = 51\n",
        "print(numbers[2])"
      ],
      "metadata": {
        "colab": {
          "base_uri": "https://localhost:8080/"
        },
        "id": "0S9cwEaWo4MK",
        "outputId": "acf5bdcb-8fd1-490b-9331-565b33e37406"
      },
      "execution_count": null,
      "outputs": [
        {
          "output_type": "stream",
          "name": "stdout",
          "text": [
            "23\n",
            "43\n",
            "15\n",
            "34\n",
            "\n",
            "51\n"
          ]
        }
      ]
    },
    {
      "cell_type": "code",
      "execution_count": null,
      "metadata": {
        "colab": {
          "base_uri": "https://localhost:8080/"
        },
        "id": "hmITnOJ1iCmh",
        "outputId": "3d2d62c7-4b0c-4c64-9919-035a37fcf25f",
        "collapsed": true
      },
      "outputs": [
        {
          "output_type": "stream",
          "name": "stdout",
          "text": [
            "[1, 2, 3]\n",
            "\n",
            "[1, 2, 4, 5]\n",
            "\n",
            "[1, 2, 4, 4]\n",
            "\n",
            "[1, 2, 4]\n",
            "\n"
          ]
        }
      ],
      "source": [
        "# Tipe data : list\n",
        "\n",
        "# deklarasi variabel list number\n",
        "numbers = [1,2,3]\n",
        "\n",
        "print(numbers)\n",
        "print()\n",
        "\n",
        "# menambahkan elemen di indeks ke-4\n",
        "number.insert(4,5) # hasil print [1,2,3,5]\n",
        "\n",
        "print(number)\n",
        "print()\n",
        "\n",
        "# mengubah elemen di indeks ke-4\n",
        "number [3] = 4 # hasil print [1,2,3,4]\n",
        "\n",
        "print(number)\n",
        "print()\n",
        "# menghapus elemen di ideks ke-2\n",
        "number.pop(2) # hasil print [1,2,4]\n",
        "\n",
        "print(number)\n",
        "print()\n",
        "\n"
      ]
    },
    {
      "cell_type": "code",
      "source": [
        "# Tipe data : list\n",
        "\n",
        "# deklarasi variabel list\n",
        "myList = [1,\"Rumah\",4.5,True,[\"Kamar mandi\",\"Kamar tidur\"]]\n",
        "\n",
        "print(myList)\n",
        "print()\n",
        "# cara mengakses elemen dalam variabel list\n",
        "myList[0] # hasil print 1\n",
        "myList[1] # hasil print \"Rumah\"\n",
        "myList[2] # hasil print 4.5\n",
        "myList[3] # hasil print True\n",
        "myList[4] # hasil print [\"Kamar mandi\",\"Kamar tidur\"]\n",
        "\n",
        "print(myList[0])\n",
        "print(myList[1])\n",
        "print(myList[2])\n",
        "print(myList[3])\n",
        "print(myList[4])\n",
        "print()\n",
        "\n",
        "# cara mengakses elemen dalam sublist\n",
        "myList[4][0] # hasil print \"Kamar mandi\"\n",
        "myList[4][1] # hasil print \"Kamar tidur\"\n",
        "\n",
        "print(myList[4][0])\n",
        "print(myList[4][1])\n",
        "print()\n"
      ],
      "metadata": {
        "colab": {
          "base_uri": "https://localhost:8080/"
        },
        "id": "vpH8FyEXo27b",
        "outputId": "71e049a3-469c-499e-f28f-50b001356314"
      },
      "execution_count": null,
      "outputs": [
        {
          "output_type": "stream",
          "name": "stdout",
          "text": [
            "[1, 'Rumah', 4.5, True, ['Kamar mandi', 'Kamar tidur']]\n",
            "\n",
            "1\n",
            "Rumah\n",
            "4.5\n",
            "True\n",
            "['Kamar mandi', 'Kamar tidur']\n",
            "\n",
            "Kamar mandi\n",
            "Kamar tidur\n",
            "\n"
          ]
        }
      ]
    },
    {
      "cell_type": "code",
      "source": [
        "# Tipe data Tuple\n",
        "\n",
        "# deklsrsdi vsrisbel tuple\n",
        "numbers = (23,43,25,34)\n",
        "\n",
        "# cara mengakses elemen dalam variabel tuple\n",
        "numbers[0] # hasil print 23\n",
        "numbers[1] # hasil print 43\n",
        "numbers[2] # hasil print 25\n",
        "numbers[3] # hasil print 34\n",
        "\n",
        "print(numbers[0])\n",
        "print(numbers[1])\n",
        "print(numbers[2])\n",
        "print(numbers[3])\n",
        "print()"
      ],
      "metadata": {
        "colab": {
          "base_uri": "https://localhost:8080/"
        },
        "id": "BUrogJwOo65D",
        "outputId": "33f5d2a2-8279-473b-e6a8-95b535bb6c9c"
      },
      "execution_count": null,
      "outputs": [
        {
          "output_type": "stream",
          "name": "stdout",
          "text": [
            "23\n",
            "43\n",
            "25\n",
            "34\n",
            "\n"
          ]
        }
      ]
    },
    {
      "cell_type": "code",
      "source": [
        "# Tipe data set\n",
        "\n",
        "# deklarasi variabel set a dan b\n",
        "\n",
        "a = {1,2,3}\n",
        "b = {2,3,4}\n",
        "\n",
        "print(a)\n",
        "print(b)\n",
        "print()\n",
        "\n",
        "# operasi gabungan\n",
        "a.union(b) # hasil print {1,2,3,4}\n",
        "\n",
        "print(a.union(b))\n",
        "print()\n",
        "\n",
        "# operasi irisan\n",
        "a.intersection(b) # hasil print {2,3}\n",
        "\n",
        "print(a.intersection(b))\n",
        "print()\n",
        "\n",
        "# operasi perbedaan\n",
        "a.symmetric_difference(b) # hasil print {1,4}\n",
        "print(a.symmetric_difference(b))\n",
        "print()\n",
        "\n"
      ],
      "metadata": {
        "colab": {
          "base_uri": "https://localhost:8080/"
        },
        "id": "PSA3rEYso80z",
        "outputId": "0539b712-813f-4447-af9e-977c504c92a1"
      },
      "execution_count": null,
      "outputs": [
        {
          "output_type": "stream",
          "name": "stdout",
          "text": [
            "{1, 2, 3}\n",
            "{2, 3, 4}\n",
            "\n",
            "{1, 2, 3, 4}\n",
            "\n",
            "{2, 3}\n",
            "\n",
            "{1, 4}\n",
            "\n"
          ]
        }
      ]
    },
    {
      "cell_type": "code",
      "source": [
        "# Tipe data dictionary\n",
        "\n",
        "# deklarasi variabel dictionary\n",
        "propertyDetail = {\"numFloors\": 1, \"propertyType\": \"Rumah\", \"hasTerrace\": True, \"hasGarage\": False}\n",
        "\n",
        "print(propertyDetail)\n",
        "print()\n",
        "\n",
        "# cara mengakses elemen dalam variabel dictionary\n",
        "propertyDetail[\"numFloors\"]  # hasil print 1\n",
        "propertyDetail[\"propertyType\"]  # hasil print Rumah\n",
        "propertyDetail[\"hasTerrace\"]  # hasil print True\n",
        "propertyDetail[\"hasGarage\"]  # hasil print False\n",
        "\n",
        "print(propertyDetail[\"numFloors\"])\n",
        "print(propertyDetail[\"propertyType\"])\n",
        "print(propertyDetail[\"hasTerrace\"])\n",
        "print(propertyDetail[\"hasGarage\"])\n",
        "print()\n",
        "\n",
        "# cara mengubah nilai elemen dalam variabel dictionary\n",
        "propertyDetail[\"hasTerrace\"] = False\n",
        "\n",
        "propertyDetail[\"hasTerrace\"]  # hasil print False\n",
        "\n",
        "print(propertyDetail[\"hasTerrace\"])\n",
        "print()\n"
      ],
      "metadata": {
        "colab": {
          "base_uri": "https://localhost:8080/"
        },
        "id": "MwuREO9LtJIF",
        "outputId": "47b07af4-b031-4012-c839-a0095f22ef4d"
      },
      "execution_count": null,
      "outputs": [
        {
          "output_type": "stream",
          "name": "stdout",
          "text": [
            "{'numFloors': 1, 'propertyType': 'Rumah', 'hasTerrace': True, 'hasGarage': False}\n",
            "\n",
            "1\n",
            "Rumah\n",
            "True\n",
            "False\n",
            "\n",
            "False\n",
            "\n"
          ]
        }
      ]
    }
  ]
}