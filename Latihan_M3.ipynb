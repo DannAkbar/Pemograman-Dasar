{
  "nbformat": 4,
  "nbformat_minor": 0,
  "metadata": {
    "colab": {
      "provenance": [],
      "authorship_tag": "ABX9TyPC4OfUzlexbtdlJwEjndcr",
      "include_colab_link": true
    },
    "kernelspec": {
      "name": "python3",
      "display_name": "Python 3"
    },
    "language_info": {
      "name": "python"
    }
  },
  "cells": [
    {
      "cell_type": "markdown",
      "metadata": {
        "id": "view-in-github",
        "colab_type": "text"
      },
      "source": [
        "<a href=\"https://colab.research.google.com/github/DannAkbar/Pemograman-Dasar/blob/main/Latihan_M3.ipynb\" target=\"_parent\"><img src=\"https://colab.research.google.com/assets/colab-badge.svg\" alt=\"Open In Colab\"/></a>"
      ]
    },
    {
      "cell_type": "code",
      "execution_count": 1,
      "metadata": {
        "colab": {
          "base_uri": "https://localhost:8080/"
        },
        "id": "3tz5eIO3o8ay",
        "outputId": "f62a0eb9-d4f4-4bdc-dffe-7b8a7cd059b3"
      },
      "outputs": [
        {
          "output_type": "stream",
          "name": "stdout",
          "text": [
            "Masukan Tahun 2004\n",
            "2004 adalah tahun kabisat.\n"
          ]
        }
      ],
      "source": [
        "# Latihan\n",
        "\n",
        "tahun = int(input(\"Masukan Tahun \"))\n",
        "\n",
        "kabisat = (tahun % 4 == 0 and tahun % 100 != 0) or (tahun % 400 == 0)\n",
        "\n",
        "hasil = {True: f\"{tahun} adalah tahun kabisat.\",False: f\"{tahun} bukan tahun kabisat.\"}\n",
        "\n",
        "print(hasil[kabisat])"
      ]
    },
    {
      "cell_type": "code",
      "source": [],
      "metadata": {
        "id": "HCLZlftzsUU9"
      },
      "execution_count": null,
      "outputs": []
    }
  ]
}