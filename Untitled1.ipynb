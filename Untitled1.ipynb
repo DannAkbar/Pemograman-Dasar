{
  "nbformat": 4,
  "nbformat_minor": 0,
  "metadata": {
    "colab": {
      "provenance": [],
      "authorship_tag": "ABX9TyN9BR3yd0T/qqIZf7JqXlkQ",
      "include_colab_link": true
    },
    "kernelspec": {
      "name": "python3",
      "display_name": "Python 3"
    },
    "language_info": {
      "name": "python"
    }
  },
  "cells": [
    {
      "cell_type": "markdown",
      "metadata": {
        "id": "view-in-github",
        "colab_type": "text"
      },
      "source": [
        "<a href=\"https://colab.research.google.com/github/DannAkbar/Pemograman-Dasar/blob/main/Untitled1.ipynb\" target=\"_parent\"><img src=\"https://colab.research.google.com/assets/colab-badge.svg\" alt=\"Open In Colab\"/></a>"
      ]
    },
    {
      "cell_type": "code",
      "execution_count": 60,
      "metadata": {
        "id": "5sMnG8oMiSUk",
        "colab": {
          "base_uri": "https://localhost:8080/"
        },
        "outputId": "ed8a46bc-e6d4-484d-e2d3-154fa3cbc167"
      },
      "outputs": [
        {
          "output_type": "stream",
          "name": "stdout",
          "text": [
            "Informasi Mahasiswa\n",
            "Nama             : Aidan\n",
            "Umur             : 19 tahun\n",
            "Asal             : Batam\n",
            "Tanggal Lahir    : 16 maret 2006\n",
            "Alamat           : Prum. jupiter Blok A3 No. 8\n",
            "Golongan Darah   : AB+\n",
            "Jurusan          : RPE\n",
            "Semester         : 3\n",
            "Mata Kuliah      : Pemrograman Dasar\n",
            "Status Lulus     : False\n",
            "Status Mahasiswa : aktif\n",
            "\n",
            "Tipe Data\n",
            "Tipe Data Nama   : <class 'str'>\n",
            "Tipe Data Umur   : <class 'int'>\n",
            "Tipe Data Asal   : <class 'str'>\n",
            "Tipe Data Tanggal Lahir : <class 'str'>\n",
            "Tipe Data Alamat : <class 'str'>\n",
            "Tipe Data Golongan Darah : <class 'str'>\n",
            "Tipe Data Jurusan : <class 'str'>\n",
            "Tipe Data Semester : <class 'int'>\n",
            "Tipe Data Mata Kuliah : <class 'str'>\n",
            "Tipe Data Status Lulus : <class 'bool'>\n",
            "Tipe Data Status Mahasiswa : <class 'str'>\n"
          ]
        }
      ],
      "source": [
        "nama = \"Aidan\"\n",
        "umur = 19\n",
        "asal = \"Batam\"\n",
        "tanggal_lahir = \"16 maret 2006\"\n",
        "alamat = \"Prum. jupiter Blok A3 No. 8\"\n",
        "golongan_darah = \"AB+\"\n",
        "jurusan = \"RPE\"\n",
        "semester = 3\n",
        "matakuliah = \"Pemrograman Dasar\"\n",
        "status_lulus = False\n",
        "status_mahasiswa = \"aktif\"\n",
        "\n",
        "print (\"Informasi Mahasiswa\")\n",
        "print (\"Nama             :\",nama)\n",
        "print (\"Umur             :\",umur,\"tahun\")\n",
        "print (\"Asal             :\",asal)\n",
        "print (\"Tanggal Lahir    :\",tanggal_lahir)\n",
        "print (\"Alamat           :\",alamat)\n",
        "print (\"Golongan Darah   :\",golongan_darah)\n",
        "print (\"Jurusan          :\",jurusan)\n",
        "print (\"Semester         :\",semester)\n",
        "print (\"Mata Kuliah      :\",matakuliah)\n",
        "print (\"Status Lulus     :\",status_lulus)\n",
        "print (\"Status Mahasiswa :\",status_mahasiswa)\n"
      ]
    }
  ]
}