{
  "nbformat": 4,
  "nbformat_minor": 0,
  "metadata": {
    "colab": {
      "provenance": [],
      "authorship_tag": "ABX9TyODawLTGL5DMBHyx2P6pTRP",
      "include_colab_link": true
    },
    "kernelspec": {
      "name": "python3",
      "display_name": "Python 3"
    },
    "language_info": {
      "name": "python"
    }
  },
  "cells": [
    {
      "cell_type": "markdown",
      "metadata": {
        "id": "view-in-github",
        "colab_type": "text"
      },
      "source": [
        "<a href=\"https://colab.research.google.com/github/DannAkbar/Pemograman-Dasar/blob/main/Tugas_Quis_No_7.ipynb\" target=\"_parent\"><img src=\"https://colab.research.google.com/assets/colab-badge.svg\" alt=\"Open In Colab\"/></a>"
      ]
    },
    {
      "cell_type": "code",
      "execution_count": 17,
      "metadata": {
        "colab": {
          "base_uri": "https://localhost:8080/"
        },
        "id": "TUaQ2bpskQ2D",
        "outputId": "f6fd1759-7e4a-4eb8-bbf5-0bdfcf31a701"
      },
      "outputs": [
        {
          "output_type": "stream",
          "name": "stdout",
          "text": [
            "Nama : Zidan\n",
            "Umur : 19\n",
            "Jurusan : RPE\n",
            "Semester : 3\n",
            "Mata kuliah : Pemrograman Dasar\n",
            "Status lulus : False\n"
          ]
        }
      ],
      "source": [
        "# Konsep Annotation\n",
        "nama: str = \"Zidan\"\n",
        "umur: int = 19\n",
        "jurusan: str = \"RPE\"\n",
        "semester: int = 3\n",
        "matakuliah: str = \"Pemrograman Dasar\"\n",
        "status_lulus: bool = False\n",
        "\n",
        "# Fungsi Annotation\n",
        "def cek_biodata(nama: str, umur: int, jurusan: str, semester: int, matakuliah: str, status_lulus: bool) -> None:\n",
        "\n",
        "\n",
        "\n",
        "    print(f\"Nama : {nama}\")\n",
        "    print(f\"Umur : {umur}\")\n",
        "    print(f\"Jurusan : {jurusan}\")\n",
        "    print(f\"Semester : {semester}\")\n",
        "    print(f\"Mata kuliah : {matakuliah}\")\n",
        "    print(f\"Status lulus : {status_lulus}\")\n",
        "\n",
        "cek_biodata(nama, umur, jurusan, semester, matakuliah, status_lulus)\n",
        ""
      ]
    }
  ]
}