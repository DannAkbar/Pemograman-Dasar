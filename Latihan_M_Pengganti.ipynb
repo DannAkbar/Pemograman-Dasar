{
  "nbformat": 4,
  "nbformat_minor": 0,
  "metadata": {
    "colab": {
      "provenance": [],
      "authorship_tag": "ABX9TyNWA7+vk9x946qVUlbgTsKa",
      "include_colab_link": true
    },
    "kernelspec": {
      "name": "python3",
      "display_name": "Python 3"
    },
    "language_info": {
      "name": "python"
    }
  },
  "cells": [
    {
      "cell_type": "markdown",
      "metadata": {
        "id": "view-in-github",
        "colab_type": "text"
      },
      "source": [
        "<a href=\"https://colab.research.google.com/github/DannAkbar/Pemograman-Dasar/blob/main/Latihan_M_Pengganti.ipynb\" target=\"_parent\"><img src=\"https://colab.research.google.com/assets/colab-badge.svg\" alt=\"Open In Colab\"/></a>"
      ]
    },
    {
      "cell_type": "code",
      "execution_count": 7,
      "metadata": {
        "colab": {
          "base_uri": "https://localhost:8080/"
        },
        "id": "ptt1Iulh5Oag",
        "outputId": "d86d6426-4357-4439-e64e-d750cacf081b"
      },
      "outputs": [
        {
          "output_type": "stream",
          "name": "stdout",
          "text": [
            "Sistem siap. Selamat datang kembali di sesi praktikum.\n",
            " ==== Biodata Mahasiswa === \n",
            "Nama    : Muh. Zidane Akbar \n",
            "NIM     : 4232401015 \n",
            "Jurusan : Teknik Elektro \n",
            "Status  : Masih nunggu di sukain balik (╥﹏╥) \n",
            "=========================== \n"
          ]
        }
      ],
      "source": [
        "# SOAL 1: Fungsi Inisialisasi Sederhana\n",
        "def sapa_praktikan():\n",
        "    \"\"\"Mencetak pesan sambutan dasar.\"\"\"\n",
        "    print(\"Sistem siap. Selamat datang kembali di sesi praktikum.\")\n",
        "\n",
        "def biodata():\n",
        "  \"\"\"Menampikan Biodata.\"\"\"\n",
        "  print(\" ==== Biodata Mahasiswa === \")\n",
        "  print(\"Nama    : Muh. Zidane Akbar \")\n",
        "  print(\"NIM     : 4232401015 \")\n",
        "  print(\"Jurusan : Teknik Elektro \")\n",
        "  print(\"Status  : Masih nunggu di sukain balik (╥﹏╥) \")\n",
        "  print(\"=========================== \")\n",
        "\n",
        "# Pemanggilan:\n",
        "sapa_praktikan()\n",
        "biodata()"
      ]
    },
    {
      "cell_type": "code",
      "source": [
        "# SOAL 2: Menghitung Volume Kubus\n",
        "def hitung_volume_balok(panjang,lebar,tinggi):\n",
        "    \"\"\"Menghitung volume balok dari panjang , lebar, tinggi. \"\"\"\n",
        "    return panjang * lebar * tinggi\n",
        "\n",
        "# Pemanggilan:\n",
        "panjang = 8\n",
        "lebar = 5\n",
        "tinggi = 3\n",
        "print(f\"Volume balok dengan panjang {panjang}, lebar {lebar}, tinggi {tinggi} adalah: {hitung_volume_balok(panjang,lebar,tinggi)}\")"
      ],
      "metadata": {
        "colab": {
          "base_uri": "https://localhost:8080/"
        },
        "id": "E9Vf8eE9-14m",
        "outputId": "1a407016-fb00-4aed-e77a-77f0868d7e87"
      },
      "execution_count": 13,
      "outputs": [
        {
          "output_type": "stream",
          "name": "stdout",
          "text": [
            "Volume balok dengan panjang 8, lebar 5, tinggi 3 adalah: 120\n"
          ]
        }
      ]
    },
    {
      "cell_type": "code",
      "source": [
        "# SOAL 3: Menghitung Rata-rata dari List Nilai\n",
        "def hitung_rata_rata(data_nilai):\n",
        "    \"\"\"Menghitung rata-rata dari list angka menggunakan perulangan for.\"\"\"\n",
        "    total = 0\n",
        "    jumlah_data = 0\n",
        "    # Perulangan untuk menjumlahkan nilai\n",
        "    for nilai in data_nilai:\n",
        "        if 0 <= nilai <= 100:\n",
        "            total += nilai\n",
        "            jumlah_data += 1\n",
        "        else:\n",
        "            print(f\"Nilai {nilai} diluar rentang 0-100. Tidak dihitung.\")\n",
        "\n",
        "    # Pembagian untuk rata-rata\n",
        "    if jumlah_data > 0:  # Changed condition to check if there is valid data\n",
        "        return total / jumlah_data\n",
        "    else:\n",
        "        return 0\n",
        "\n",
        "\n",
        "# Pemanggilan:\n",
        "nilai_praktikan = [85, 78, 92, 65, 90]\n",
        "print(f\"Nilai rata-rata kelas adalah: {hitung_rata_rata(nilai_praktikan)}\")"
      ],
      "metadata": {
        "colab": {
          "base_uri": "https://localhost:8080/"
        },
        "id": "CdM1aBY8D8BJ",
        "outputId": "5deef169-5211-480b-9c72-46a02d85fa3e"
      },
      "execution_count": 16,
      "outputs": [
        {
          "output_type": "stream",
          "name": "stdout",
          "text": [
            "Nilai rata-rata kelas adalah: 82.0\n"
          ]
        }
      ]
    },
    {
      "cell_type": "code",
      "source": [
        "# SOAL 4: Sistem Penentuan Predikat Nilai\n",
        "def tentukan_predikat(skor):\n",
        "    \"\"\"Menentukan predikat (A, B, C, D, E) berdasarkan skor.\"\"\"\n",
        "\n",
        " # Pengecekan tipe data\n",
        "    if not isinstance(skor, (int, float)):\n",
        "        return \"Error: Input harus berupa angka (int atau float).\"\n",
        "\n",
        "    # Pengecekan rentang nilai\n",
        "    if skor < 0 or skor > 100:\n",
        "        return \"Error: Nilai harus di antara 0 sampai 100.\"\n",
        "\n",
        "    if skor >= 85:\n",
        "        return \"A\"\n",
        "    elif skor >= 70 :\n",
        "        return \"B\"\n",
        "    elif skor >= 60:\n",
        "        return \"C\"\n",
        "    elif skor >= 50:\n",
        "        return \"D\"\n",
        "    else:\n",
        "        return \"E\"\n",
        "\n",
        "# Pemanggilan:\n",
        "print(f\"Skor 75 mendapat predikat: {tentukan_predikat(75)}\")\n",
        "print(f\"Skor 48 mendapat predikat: {tentukan_predikat(48)}\")\n",
        "print(f\"Skor 3928 mendapat predikat: {tentukan_predikat(3928)}\")\n",
        "print(f\"Skor 'limapuluhtiga' mendapat predikat: {tentukan_predikat('limapuluhtiga')}\")"
      ],
      "metadata": {
        "colab": {
          "base_uri": "https://localhost:8080/"
        },
        "id": "BMdPTc9LJ8kh",
        "outputId": "f099752f-ee58-4b6a-cbea-26b17d457df0"
      },
      "execution_count": 25,
      "outputs": [
        {
          "output_type": "stream",
          "name": "stdout",
          "text": [
            "Skor 75 mendapat predikat: B\n",
            "Skor 48 mendapat predikat: E\n",
            "Skor 3928 mendapat predikat: Error: Nilai harus di antara 0 sampai 100.\n",
            "Skor 'limapuluhtiga' mendapat predikat: Error: Input harus berupa angka (int atau float).\n"
          ]
        }
      ]
    },
    {
      "cell_type": "code",
      "source": [
        "# SOAL 5: Menghitung Faktorial dengan Loop While\n",
        "def hitung_faktorial(n):\n",
        "    \"\"\"Menghitung faktorial dari bilangan positif n.\"\"\"\n",
        "\n",
        "    # Penanganan kasus khusus\n",
        "    if n < 0:\n",
        "        return \"Error: Faktorial tidak dapat dihitung untuk bilangan negatif.\"\n",
        "    elif n == 0:\n",
        "        return 1  # Secara matematis, 0! = 1\n",
        "\n",
        "    hasil = 1\n",
        "\n",
        "    # Perulangan berjalan selama n lebih besar dari 1\n",
        "    while n > 1:\n",
        "        hasil *= n\n",
        "        n -= 1  # Kurangi n setiap iterasi\n",
        "\n",
        "    return hasil\n",
        "\n",
        "# Pemanggilan:\n",
        "bilangan_n = 4\n",
        "print(f\"Faktorial dari {bilangan_n} adalah: {hitung_faktorial(bilangan_n)}\")  # Output: 24\n",
        "print(f\"Faktorial dari 0 adalah: {hitung_faktorial(0)}\")                      # Output: 1\n",
        "print(f\"Faktorial dari -3 adalah: {hitung_faktorial(-3)}\")                    # Output: Error\n"
      ],
      "metadata": {
        "colab": {
          "base_uri": "https://localhost:8080/"
        },
        "id": "LND5BpZLOUe5",
        "outputId": "d494f8b2-1f75-4ca8-a33a-63c45bee3900"
      },
      "execution_count": 32,
      "outputs": [
        {
          "output_type": "stream",
          "name": "stdout",
          "text": [
            "Faktorial dari 4 adalah: 24\n",
            "Faktorial dari 0 adalah: 1\n",
            "Faktorial dari -3 adalah: Error: Faktorial tidak dapat dihitung untuk bilangan negatif.\n"
          ]
        }
      ]
    },
    {
      "cell_type": "code",
      "source": [
        "# SOAL 6: Analisis Data Suhu Ekstrem (for dan if/elif)\n",
        "def analisis_suhu(data_suhu, batas_panas=35, batas_dingin=15):\n",
        "    \"\"\"Menghitung jumlah hari Panas dan Dingin dari data_suhu.\"\"\"\n",
        "    panas_count = 0\n",
        "    dingin_count = 0\n",
        "\n",
        "    for suhu in data_suhu:\n",
        "        if suhu >= batas_panas:\n",
        "            panas_count += 1\n",
        "        elif suhu <= batas_dingin:\n",
        "            dingin_count += 1\n",
        "\n",
        "    return panas_count, dingin_count\n",
        "\n",
        "# Pemanggilan:\n",
        "suhu_mingguan = [36, 30, 14, 25, 38, 16, 28]\n",
        "jumlah_panas, jumlah_dingin = analisis_suhu(suhu_mingguan)\n",
        "print(f\"Jumlah hari Panas (>=35°C): {jumlah_panas}\")\n",
        "print(f\"Jumlah hari Dingin (<=15°C): {jumlah_dingin}\")"
      ],
      "metadata": {
        "colab": {
          "base_uri": "https://localhost:8080/"
        },
        "id": "LgE0KgHbPeNm",
        "outputId": "04118a1f-f0f5-4509-f17e-c06067025e11"
      },
      "execution_count": 30,
      "outputs": [
        {
          "output_type": "stream",
          "name": "stdout",
          "text": [
            "Jumlah hari Panas (>=35°C): 2\n",
            "Jumlah hari Dingin (<=15°C): 1\n"
          ]
        }
      ]
    }
  ]
}