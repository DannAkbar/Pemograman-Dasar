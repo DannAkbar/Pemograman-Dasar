{
  "nbformat": 4,
  "nbformat_minor": 0,
  "metadata": {
    "colab": {
      "provenance": [],
      "authorship_tag": "ABX9TyMjgr7pEl3IIKzcE+VJnN4F",
      "include_colab_link": true
    },
    "kernelspec": {
      "name": "python3",
      "display_name": "Python 3"
    },
    "language_info": {
      "name": "python"
    }
  },
  "cells": [
    {
      "cell_type": "markdown",
      "metadata": {
        "id": "view-in-github",
        "colab_type": "text"
      },
      "source": [
        "<a href=\"https://colab.research.google.com/github/DannAkbar/Pemograman-Dasar/blob/main/Tugas_Pertemuan_2.ipynb\" target=\"_parent\"><img src=\"https://colab.research.google.com/assets/colab-badge.svg\" alt=\"Open In Colab\"/></a>"
      ]
    },
    {
      "cell_type": "code",
      "execution_count": 2,
      "metadata": {
        "colab": {
          "base_uri": "https://localhost:8080/"
        },
        "id": "GwPX9gAuvjwG",
        "outputId": "605b65a2-448a-49b9-c4ff-7924988e2040"
      },
      "outputs": [
        {
          "output_type": "stream",
          "name": "stdout",
          "text": [
            "Fristname   : Muh. Zidane\n",
            "Lastname    : Akbar\n",
            "Age         : 19\n",
            "Ismarried   : False\n"
          ]
        }
      ],
      "source": [
        "# Tugas 1\n",
        "\n",
        "Firstname = \"Muh. Zidane\"\n",
        "Lastname = \"Akbar\"\n",
        "Age = 19\n",
        "Ismarried = False\n",
        "\n",
        "# Hasil Print\n",
        "\n",
        "print(\"Firstname   :\",Firstname)\n",
        "print(\"Lastname    :\",Lastname)\n",
        "print(\"Age         :\",Age)\n",
        "print(\"Ismarried   :\",Ismarried)"
      ]
    },
    {
      "cell_type": "code",
      "source": [
        "# Tugas 2\n",
        "\n",
        "Data_diri = {\"Fristname\":\"Muh. Zidane\",\"Lastname\":\"Akbar\",\"Age\":19,\"Ismarried\":False,}\n",
        "\n",
        "# Hasil Print\n",
        "print(Data_diri)\n",
        "print()"
      ],
      "metadata": {
        "colab": {
          "base_uri": "https://localhost:8080/"
        },
        "id": "TMqZjrjsxfp2",
        "outputId": "39035e6f-34a4-4423-8c78-97078068e5c3"
      },
      "execution_count": 6,
      "outputs": [
        {
          "output_type": "stream",
          "name": "stdout",
          "text": [
            "{'Fristname': 'Muh. Zidane', 'Lastname': 'Akbar', 'Age': 19, 'Ismarried': False}\n"
          ]
        }
      ]
    },
    {
      "cell_type": "code",
      "source": [
        "# Tugas 3\n",
        "\n",
        "inspeksi = [\n",
        "    \"pemahaman terhadap rencana dan desain\",\"ketersediaan bahan dan peralatan\",\"pengawasan pekerjaan\",\"kualitas konstruksi\",\"keselamatan kerja\",\"koordinasi dengan pemilik proyek\"]\n",
        "\n",
        "# Hasil Print\n",
        "print(inspeksi[0])\n",
        "print(inspeksi[1])\n",
        "print(inspeksi[2])\n",
        "print(inspeksi[3])\n",
        "print(inspeksi[4])\n",
        "print(inspeksi[5])"
      ],
      "metadata": {
        "colab": {
          "base_uri": "https://localhost:8080/"
        },
        "id": "m68Wwb4l1gMG",
        "outputId": "60f12b8e-dd66-459d-bc33-55c139769435"
      },
      "execution_count": 7,
      "outputs": [
        {
          "output_type": "stream",
          "name": "stdout",
          "text": [
            "pemahaman terhadap rencana dan desain\n",
            "ketersediaan bahan dan peralatan\n",
            "pengawasan pekerjaan\n",
            "kualitas konstruksi\n",
            "keselamatan kerja\n",
            "koordinasi dengan pemilik proyek\n"
          ]
        }
      ]
    },
    {
      "cell_type": "code",
      "source": [
        "# Tugas 4\n",
        "\n",
        "# Variabel StartTime Bertipe Dictionary\n",
        "startTime = {\"HH\": 9,\"mm\": 23,\"ss\": 57}\n",
        "\n",
        "# Variabel EndTime Bertipe Dictionary\n",
        "endTime = {\"HH\": 15,\"mm\": 25,\"ss\": 43}\n",
        "\n",
        "# Hasil Print\n",
        "print(\"Start Time\")\n",
        "print(f\"{startTime['HH']}:{startTime['mm']}:{startTime['ss']}\")\n",
        "print()\n",
        "\n",
        "print(\"End Time\")\n",
        "print(f\"{endTime['HH']}:{endTime['mm']}:{endTime['ss']}\")\n"
      ],
      "metadata": {
        "colab": {
          "base_uri": "https://localhost:8080/"
        },
        "id": "6Jm65sT-5Doh",
        "outputId": "4cefacbd-40db-42b0-86cf-1ca08702cbfe"
      },
      "execution_count": 19,
      "outputs": [
        {
          "output_type": "stream",
          "name": "stdout",
          "text": [
            "Start Time\n",
            "9:23:57\n",
            "\n",
            "End Time\n",
            "15:25:43\n"
          ]
        }
      ]
    },
    {
      "cell_type": "code",
      "source": [
        "# Tugas 5\n",
        "\n",
        "# Data katalog bertipe set\n",
        "katalog_A = {\"Kemeja\", \"Celana\", \"Sepatu\", \"Topi\"}\n",
        "katalog_B = {\"Tas\", \"Kemeja\", \"Jaket\", \"Sepatu\"}\n",
        "\n",
        "# Data produk diskon bertipe tuple\n",
        "produk_diskon = (\"Celana\", \"Tas\", \"Kaos\", \"Jaket\")\n",
        "\n",
        "# Gabung Katalog_A dan Katalog_b menjadi satu set\n",
        "katalog_lengkap = katalog_A.union(katalog_B)\n",
        "\n",
        "# Lalu cari produk di katalog_lengkap yang ada di produk_diskon\n",
        "produk_promo_aktif = katalog_lengkap.intersection(set(produk_diskon))\n",
        "\n",
        "# Hasil Print\n",
        "print(\"Katalog Lengkap :\", katalog_lengkap)\n",
        "print(\"Produk Diskon  :\",produk_diskon)\n",
        "print(\"Produk Promo Aktif :\", produk_promo_aktif)\n"
      ],
      "metadata": {
        "colab": {
          "base_uri": "https://localhost:8080/"
        },
        "id": "mPKiwxO_70Iv",
        "outputId": "c70c1815-ae59-4ad6-daa8-014f812a19ad"
      },
      "execution_count": 22,
      "outputs": [
        {
          "output_type": "stream",
          "name": "stdout",
          "text": [
            "Katalog Lengkap : {'Tas', 'Sepatu', 'Celana', 'Topi', 'Jaket', 'Kemeja'}\n",
            "Produk Diskon  : ('Celana', 'Tas', 'Kaos', 'Jaket')\n",
            "Produk Promo Aktif : {'Celana', 'Tas', 'Jaket'}\n"
          ]
        }
      ]
    }
  ]
}
